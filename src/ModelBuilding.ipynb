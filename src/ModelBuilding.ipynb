{
 "cells": [
  {
   "cell_type": "code",
   "execution_count": 32,
   "metadata": {},
   "outputs": [],
   "source": [
    "import os\n",
    "os.environ['TF_CPP_MIN_LOG_LEVEL'] = '3' \n",
    "import tensorflow.python.util.deprecation as deprecation\n",
    "deprecation._PRINT_DEPRECATION_WARNINGS = False\n",
    "import tensorflow as tf\n",
    "from tensorflow import keras\n",
    "from keras.datasets import boston_housing\n",
    "from sklearn import preprocessing"
   ]
  },
  {
   "cell_type": "code",
   "execution_count": 33,
   "metadata": {},
   "outputs": [],
   "source": [
    "(train_X,train_Y),(test_X,test_Y) = boston_housing.load_data()"
   ]
  },
  {
   "cell_type": "code",
   "execution_count": 34,
   "metadata": {},
   "outputs": [
    {
     "name": "stdout",
     "output_type": "stream",
     "text": [
      "[  1.23247   0.        8.14      0.        0.538     6.142    91.7\n",
      "   3.9769    4.      307.       21.      396.9      18.72   ]\n",
      "15.2\n"
     ]
    }
   ],
   "source": [
    "# Look at the first point fro reference\n",
    "print(train_X[0])\n",
    "print(train_Y[0])"
   ]
  },
  {
   "cell_type": "code",
   "execution_count": 35,
   "metadata": {},
   "outputs": [],
   "source": [
    "train_X = preprocessing.normalize(train_X)\n",
    "test_X = preprocessing.normalize(test_X)"
   ]
  },
  {
   "attachments": {},
   "cell_type": "markdown",
   "metadata": {},
   "source": [
    "# MODEL BUILDING"
   ]
  },
  {
   "cell_type": "code",
   "execution_count": 36,
   "metadata": {},
   "outputs": [],
   "source": [
    "from tensorflow.keras.models import Sequential\n",
    "from tensorflow.keras.layers import *\n",
    "\n",
    "model = Sequential()\n",
    "model.add(Dense(128,activation = 'relu',input_shape = (train_X[0].shape)))\n",
    "model.add(Dense(64,activation = 'relu'))\n",
    "model.add(Dense(32,activation = 'relu'))\n",
    "model.add(Dense(1,activation = 'relu'))\n",
    "model.compile(optimizer = 'rmsprop', loss = 'mse', metrics = ['mae'])"
   ]
  },
  {
   "cell_type": "code",
   "execution_count": 37,
   "metadata": {},
   "outputs": [],
   "source": [
    "import numpy as np\n",
    "k = 4\n",
    "num_val_samples = len(train_X)\n",
    "num_epochs = 100\n",
    "all_scores = []"
   ]
  },
  {
   "cell_type": "code",
   "execution_count": 38,
   "metadata": {},
   "outputs": [
    {
     "name": "stdout",
     "output_type": "stream",
     "text": [
      "Epoch 1/100\n",
      "404/404 [==============================] - 2s 3ms/step - loss: 120.8079 - mae: 8.0459 - val_loss: 68.5671 - val_mae: 5.8791\n",
      "Epoch 2/100\n",
      "404/404 [==============================] - 1s 2ms/step - loss: 66.9704 - mae: 5.6907 - val_loss: 62.4065 - val_mae: 5.6955\n",
      "Epoch 3/100\n",
      "404/404 [==============================] - 1s 2ms/step - loss: 61.8028 - mae: 5.4351 - val_loss: 69.2770 - val_mae: 6.6606\n",
      "Epoch 4/100\n",
      "404/404 [==============================] - 1s 2ms/step - loss: 60.9704 - mae: 5.4835 - val_loss: 54.0046 - val_mae: 5.4906\n",
      "Epoch 5/100\n",
      "404/404 [==============================] - 1s 2ms/step - loss: 57.2442 - mae: 5.2689 - val_loss: 62.0061 - val_mae: 5.5568\n",
      "Epoch 6/100\n",
      "404/404 [==============================] - 1s 2ms/step - loss: 57.1347 - mae: 5.1909 - val_loss: 58.4627 - val_mae: 5.3986\n",
      "Epoch 7/100\n",
      "404/404 [==============================] - 1s 2ms/step - loss: 54.4980 - mae: 5.0627 - val_loss: 50.4470 - val_mae: 5.1631\n",
      "Epoch 8/100\n",
      "404/404 [==============================] - 1s 2ms/step - loss: 53.6861 - mae: 4.9327 - val_loss: 52.0134 - val_mae: 5.4457\n",
      "Epoch 9/100\n",
      "404/404 [==============================] - 1s 2ms/step - loss: 50.0467 - mae: 4.7533 - val_loss: 52.0955 - val_mae: 5.0747\n",
      "Epoch 10/100\n",
      "404/404 [==============================] - 1s 2ms/step - loss: 49.6930 - mae: 4.7158 - val_loss: 47.8630 - val_mae: 5.1607\n",
      "Epoch 11/100\n",
      "404/404 [==============================] - 1s 2ms/step - loss: 48.1272 - mae: 4.7338 - val_loss: 46.0466 - val_mae: 4.7403\n",
      "Epoch 12/100\n",
      "404/404 [==============================] - 1s 2ms/step - loss: 46.6927 - mae: 4.5753 - val_loss: 52.6672 - val_mae: 5.0609\n",
      "Epoch 13/100\n",
      "404/404 [==============================] - 1s 2ms/step - loss: 46.1191 - mae: 4.5511 - val_loss: 57.3044 - val_mae: 5.3687\n",
      "Epoch 14/100\n",
      "404/404 [==============================] - 1s 2ms/step - loss: 45.0866 - mae: 4.5793 - val_loss: 41.0965 - val_mae: 4.5833\n",
      "Epoch 15/100\n",
      "404/404 [==============================] - 1s 2ms/step - loss: 42.7805 - mae: 4.4008 - val_loss: 44.9035 - val_mae: 4.6015\n",
      "Epoch 16/100\n",
      "404/404 [==============================] - 1s 2ms/step - loss: 40.7056 - mae: 4.4458 - val_loss: 40.0098 - val_mae: 4.3565\n",
      "Epoch 17/100\n",
      "404/404 [==============================] - 1s 2ms/step - loss: 40.2219 - mae: 4.4097 - val_loss: 38.3433 - val_mae: 4.5131\n",
      "Epoch 18/100\n",
      "404/404 [==============================] - 1s 2ms/step - loss: 38.8934 - mae: 4.3212 - val_loss: 34.9158 - val_mae: 4.1279\n",
      "Epoch 19/100\n",
      "404/404 [==============================] - 1s 2ms/step - loss: 37.5438 - mae: 4.2868 - val_loss: 43.9394 - val_mae: 5.4580\n",
      "Epoch 20/100\n",
      "404/404 [==============================] - 1s 2ms/step - loss: 36.2512 - mae: 4.2379 - val_loss: 35.2666 - val_mae: 4.0952\n",
      "Epoch 21/100\n",
      "404/404 [==============================] - 1s 2ms/step - loss: 36.4617 - mae: 4.1938 - val_loss: 33.9136 - val_mae: 4.0850\n",
      "Epoch 22/100\n",
      "404/404 [==============================] - 1s 2ms/step - loss: 35.9936 - mae: 4.1934 - val_loss: 35.9501 - val_mae: 4.6458\n",
      "Epoch 23/100\n",
      "404/404 [==============================] - 1s 2ms/step - loss: 33.9510 - mae: 4.1315 - val_loss: 31.8621 - val_mae: 4.0779\n",
      "Epoch 24/100\n",
      "404/404 [==============================] - 1s 2ms/step - loss: 33.8245 - mae: 4.1109 - val_loss: 33.6660 - val_mae: 3.9883\n",
      "Epoch 25/100\n",
      "404/404 [==============================] - 1s 2ms/step - loss: 33.1785 - mae: 4.0409 - val_loss: 46.8893 - val_mae: 4.7874\n",
      "Epoch 26/100\n",
      "404/404 [==============================] - 1s 2ms/step - loss: 33.0184 - mae: 4.0160 - val_loss: 31.8173 - val_mae: 3.9107\n",
      "Epoch 27/100\n",
      "404/404 [==============================] - 1s 2ms/step - loss: 33.1320 - mae: 4.0406 - val_loss: 33.7638 - val_mae: 3.9867\n",
      "Epoch 28/100\n",
      "404/404 [==============================] - 1s 2ms/step - loss: 31.3926 - mae: 3.9419 - val_loss: 35.4568 - val_mae: 4.1050\n",
      "Epoch 29/100\n",
      "404/404 [==============================] - 1s 2ms/step - loss: 29.1180 - mae: 3.9062 - val_loss: 39.6368 - val_mae: 4.3497\n",
      "Epoch 30/100\n",
      "404/404 [==============================] - 1s 2ms/step - loss: 30.9854 - mae: 3.8772 - val_loss: 29.6433 - val_mae: 4.0392\n",
      "Epoch 31/100\n",
      "404/404 [==============================] - 1s 2ms/step - loss: 28.0191 - mae: 3.7912 - val_loss: 41.6398 - val_mae: 4.5438\n",
      "Epoch 32/100\n",
      "404/404 [==============================] - 1s 2ms/step - loss: 29.3577 - mae: 3.7735 - val_loss: 29.1903 - val_mae: 3.7711\n",
      "Epoch 33/100\n",
      "404/404 [==============================] - 1s 2ms/step - loss: 27.9134 - mae: 3.6799 - val_loss: 29.8036 - val_mae: 3.9397\n",
      "Epoch 34/100\n",
      "404/404 [==============================] - 1s 2ms/step - loss: 27.0273 - mae: 3.6965 - val_loss: 28.5713 - val_mae: 3.7135\n",
      "Epoch 35/100\n",
      "404/404 [==============================] - 1s 2ms/step - loss: 26.1427 - mae: 3.5999 - val_loss: 27.3302 - val_mae: 3.8239\n",
      "Epoch 36/100\n",
      "404/404 [==============================] - 1s 2ms/step - loss: 26.3509 - mae: 3.6034 - val_loss: 30.7424 - val_mae: 3.9267\n",
      "Epoch 37/100\n",
      "404/404 [==============================] - 1s 2ms/step - loss: 25.2424 - mae: 3.5374 - val_loss: 27.2094 - val_mae: 3.6714\n",
      "Epoch 38/100\n",
      "404/404 [==============================] - 1s 2ms/step - loss: 24.4120 - mae: 3.6227 - val_loss: 46.4053 - val_mae: 5.0242\n",
      "Epoch 39/100\n",
      "404/404 [==============================] - 1s 2ms/step - loss: 24.8246 - mae: 3.4396 - val_loss: 28.6646 - val_mae: 4.2494\n",
      "Epoch 40/100\n",
      "404/404 [==============================] - 1s 2ms/step - loss: 24.0367 - mae: 3.4546 - val_loss: 26.5737 - val_mae: 3.6809\n",
      "Epoch 41/100\n",
      "404/404 [==============================] - 1s 2ms/step - loss: 23.9998 - mae: 3.4732 - val_loss: 29.9439 - val_mae: 3.8745\n",
      "Epoch 42/100\n",
      "404/404 [==============================] - 1s 2ms/step - loss: 22.0849 - mae: 3.3367 - val_loss: 25.4629 - val_mae: 3.6299\n",
      "Epoch 43/100\n",
      "404/404 [==============================] - 1s 2ms/step - loss: 22.6188 - mae: 3.3784 - val_loss: 30.9795 - val_mae: 4.4162\n",
      "Epoch 44/100\n",
      "404/404 [==============================] - 1s 2ms/step - loss: 22.3170 - mae: 3.3350 - val_loss: 63.6775 - val_mae: 6.7037\n",
      "Epoch 45/100\n",
      "404/404 [==============================] - 1s 2ms/step - loss: 21.6657 - mae: 3.3266 - val_loss: 26.2085 - val_mae: 3.8251\n",
      "Epoch 46/100\n",
      "404/404 [==============================] - 1s 2ms/step - loss: 21.1425 - mae: 3.2339 - val_loss: 31.2887 - val_mae: 4.2719\n",
      "Epoch 47/100\n",
      "404/404 [==============================] - 1s 2ms/step - loss: 21.1462 - mae: 3.3541 - val_loss: 27.7286 - val_mae: 3.8265\n",
      "Epoch 48/100\n",
      "404/404 [==============================] - 1s 2ms/step - loss: 19.9495 - mae: 3.1894 - val_loss: 35.8217 - val_mae: 4.3160\n",
      "Epoch 49/100\n",
      "404/404 [==============================] - 1s 2ms/step - loss: 18.8772 - mae: 3.2583 - val_loss: 42.8422 - val_mae: 4.7296\n",
      "Epoch 50/100\n",
      "404/404 [==============================] - 1s 2ms/step - loss: 20.8037 - mae: 3.2094 - val_loss: 29.4262 - val_mae: 3.8887\n",
      "Epoch 51/100\n",
      "404/404 [==============================] - 1s 2ms/step - loss: 19.2788 - mae: 3.1928 - val_loss: 29.3842 - val_mae: 3.8816\n",
      "Epoch 52/100\n",
      "404/404 [==============================] - 1s 2ms/step - loss: 20.3439 - mae: 3.2851 - val_loss: 29.2209 - val_mae: 4.0216\n",
      "Epoch 53/100\n",
      "404/404 [==============================] - 1s 2ms/step - loss: 19.9354 - mae: 3.2300 - val_loss: 29.0328 - val_mae: 3.8168\n",
      "Epoch 54/100\n",
      "404/404 [==============================] - 1s 2ms/step - loss: 19.2324 - mae: 3.1493 - val_loss: 27.7331 - val_mae: 3.7227\n",
      "Epoch 55/100\n",
      "404/404 [==============================] - 1s 2ms/step - loss: 18.7574 - mae: 3.2062 - val_loss: 30.0228 - val_mae: 3.8716\n",
      "Epoch 56/100\n",
      "404/404 [==============================] - 1s 2ms/step - loss: 19.5587 - mae: 3.1569 - val_loss: 31.2039 - val_mae: 4.0784\n",
      "Epoch 57/100\n",
      "404/404 [==============================] - 1s 2ms/step - loss: 18.7645 - mae: 3.2129 - val_loss: 29.1220 - val_mae: 3.8932\n",
      "Epoch 58/100\n",
      "404/404 [==============================] - 1s 2ms/step - loss: 18.3893 - mae: 3.0643 - val_loss: 28.3568 - val_mae: 3.6527\n",
      "Epoch 59/100\n",
      "404/404 [==============================] - 1s 2ms/step - loss: 18.8195 - mae: 3.1410 - val_loss: 32.0557 - val_mae: 3.9643\n",
      "Epoch 60/100\n",
      "404/404 [==============================] - 1s 2ms/step - loss: 18.0824 - mae: 3.0317 - val_loss: 31.0753 - val_mae: 4.0615\n",
      "Epoch 61/100\n",
      "404/404 [==============================] - 1s 2ms/step - loss: 17.5892 - mae: 3.0322 - val_loss: 51.1542 - val_mae: 5.1360\n",
      "Epoch 62/100\n",
      "404/404 [==============================] - 1s 2ms/step - loss: 19.3684 - mae: 3.1791 - val_loss: 38.6819 - val_mae: 4.5888\n",
      "Epoch 63/100\n",
      "404/404 [==============================] - 1s 2ms/step - loss: 18.6238 - mae: 3.0811 - val_loss: 30.8766 - val_mae: 3.8354\n",
      "Epoch 64/100\n",
      "404/404 [==============================] - 1s 2ms/step - loss: 18.5262 - mae: 3.0150 - val_loss: 27.3985 - val_mae: 3.5907\n",
      "Epoch 65/100\n",
      "404/404 [==============================] - 1s 2ms/step - loss: 18.1772 - mae: 3.0985 - val_loss: 37.4746 - val_mae: 4.3145\n",
      "Epoch 66/100\n",
      "404/404 [==============================] - 1s 2ms/step - loss: 17.7066 - mae: 3.0764 - val_loss: 30.2913 - val_mae: 3.9171\n",
      "Epoch 67/100\n",
      "404/404 [==============================] - 1s 2ms/step - loss: 17.7733 - mae: 3.0323 - val_loss: 55.2269 - val_mae: 5.7006\n",
      "Epoch 68/100\n",
      "404/404 [==============================] - 1s 2ms/step - loss: 17.9949 - mae: 3.0458 - val_loss: 34.6539 - val_mae: 4.1186\n",
      "Epoch 69/100\n",
      "404/404 [==============================] - 1s 2ms/step - loss: 18.9577 - mae: 3.0416 - val_loss: 30.1771 - val_mae: 3.7945\n",
      "Epoch 70/100\n",
      "404/404 [==============================] - 1s 2ms/step - loss: 18.1567 - mae: 3.0020 - val_loss: 30.0165 - val_mae: 3.7375\n",
      "Epoch 71/100\n",
      "404/404 [==============================] - 1s 2ms/step - loss: 18.6460 - mae: 3.0787 - val_loss: 28.7123 - val_mae: 3.6526\n",
      "Epoch 72/100\n",
      "404/404 [==============================] - 1s 2ms/step - loss: 17.7695 - mae: 2.9463 - val_loss: 26.5732 - val_mae: 3.5277\n",
      "Epoch 73/100\n",
      "404/404 [==============================] - 1s 2ms/step - loss: 17.7059 - mae: 3.0214 - val_loss: 34.2552 - val_mae: 4.4753\n",
      "Epoch 74/100\n",
      "404/404 [==============================] - 1s 2ms/step - loss: 17.8736 - mae: 3.0354 - val_loss: 29.0609 - val_mae: 3.9775\n",
      "Epoch 75/100\n",
      "404/404 [==============================] - 1s 2ms/step - loss: 16.7730 - mae: 2.9795 - val_loss: 33.3726 - val_mae: 3.9969\n",
      "Epoch 76/100\n",
      "404/404 [==============================] - 1s 2ms/step - loss: 17.3929 - mae: 2.9391 - val_loss: 32.7654 - val_mae: 3.9964\n",
      "Epoch 77/100\n",
      "404/404 [==============================] - 1s 2ms/step - loss: 18.5383 - mae: 3.0175 - val_loss: 28.8390 - val_mae: 3.7301\n",
      "Epoch 78/100\n",
      "404/404 [==============================] - 1s 2ms/step - loss: 18.0369 - mae: 3.0052 - val_loss: 28.4802 - val_mae: 3.5839\n",
      "Epoch 79/100\n",
      "404/404 [==============================] - 1s 2ms/step - loss: 16.6381 - mae: 2.9135 - val_loss: 34.7155 - val_mae: 3.9732\n",
      "Epoch 80/100\n",
      "404/404 [==============================] - 1s 2ms/step - loss: 15.5739 - mae: 2.8145 - val_loss: 34.0840 - val_mae: 4.0595\n",
      "Epoch 81/100\n",
      "404/404 [==============================] - 1s 2ms/step - loss: 17.0485 - mae: 2.8988 - val_loss: 29.5632 - val_mae: 3.7157\n",
      "Epoch 82/100\n",
      "404/404 [==============================] - 1s 2ms/step - loss: 17.0655 - mae: 2.9395 - val_loss: 34.6785 - val_mae: 4.1096\n",
      "Epoch 83/100\n",
      "404/404 [==============================] - 1s 2ms/step - loss: 18.7139 - mae: 2.9687 - val_loss: 36.5775 - val_mae: 4.2553\n",
      "Epoch 84/100\n",
      "404/404 [==============================] - 1s 2ms/step - loss: 17.9496 - mae: 2.9678 - val_loss: 29.7570 - val_mae: 3.8252\n",
      "Epoch 85/100\n",
      "404/404 [==============================] - 1s 2ms/step - loss: 17.4343 - mae: 3.0378 - val_loss: 29.2166 - val_mae: 3.6886\n",
      "Epoch 86/100\n",
      "404/404 [==============================] - 1s 2ms/step - loss: 16.4401 - mae: 2.9608 - val_loss: 39.8307 - val_mae: 4.3925\n",
      "Epoch 87/100\n",
      "404/404 [==============================] - 1s 2ms/step - loss: 16.4346 - mae: 2.8113 - val_loss: 34.1477 - val_mae: 3.9587\n",
      "Epoch 88/100\n",
      "404/404 [==============================] - 1s 2ms/step - loss: 17.3207 - mae: 2.9241 - val_loss: 31.1671 - val_mae: 3.8212\n",
      "Epoch 89/100\n",
      "404/404 [==============================] - 1s 2ms/step - loss: 17.6154 - mae: 3.0170 - val_loss: 27.0474 - val_mae: 3.5623\n",
      "Epoch 90/100\n",
      "404/404 [==============================] - 1s 2ms/step - loss: 16.1196 - mae: 2.8551 - val_loss: 29.0093 - val_mae: 3.6428\n",
      "Epoch 91/100\n",
      "404/404 [==============================] - 1s 2ms/step - loss: 15.9850 - mae: 2.8995 - val_loss: 38.9727 - val_mae: 4.4473\n",
      "Epoch 92/100\n",
      "404/404 [==============================] - 1s 2ms/step - loss: 17.3794 - mae: 2.9011 - val_loss: 38.9607 - val_mae: 4.3622\n",
      "Epoch 93/100\n",
      "404/404 [==============================] - 1s 2ms/step - loss: 16.5327 - mae: 2.8631 - val_loss: 30.4626 - val_mae: 3.6599\n",
      "Epoch 94/100\n",
      "404/404 [==============================] - 1s 2ms/step - loss: 16.5701 - mae: 2.9030 - val_loss: 38.9413 - val_mae: 4.3489\n",
      "Epoch 95/100\n",
      "404/404 [==============================] - 1s 2ms/step - loss: 16.8250 - mae: 2.9560 - val_loss: 34.4464 - val_mae: 4.0455\n",
      "Epoch 96/100\n",
      "404/404 [==============================] - 1s 2ms/step - loss: 16.3351 - mae: 2.9302 - val_loss: 30.9652 - val_mae: 3.7439\n",
      "Epoch 97/100\n",
      "404/404 [==============================] - 1s 2ms/step - loss: 16.8554 - mae: 2.9225 - val_loss: 29.7621 - val_mae: 3.6025\n",
      "Epoch 98/100\n",
      "404/404 [==============================] - 1s 2ms/step - loss: 16.3423 - mae: 2.8374 - val_loss: 33.9536 - val_mae: 4.0195\n",
      "Epoch 99/100\n",
      "404/404 [==============================] - 1s 2ms/step - loss: 15.8119 - mae: 2.8504 - val_loss: 28.4787 - val_mae: 3.5443\n",
      "Epoch 100/100\n",
      "404/404 [==============================] - 1s 2ms/step - loss: 16.2396 - mae: 2.8675 - val_loss: 34.4022 - val_mae: 3.8449\n"
     ]
    }
   ],
   "source": [
    "history = model.fit(x = train_X, y = train_Y, epochs = num_epochs, batch_size =1, verbose=1, validation_data = (test_X,test_Y))"
   ]
  },
  {
   "cell_type": "code",
   "execution_count": 39,
   "metadata": {},
   "outputs": [],
   "source": [
    "tf.keras.models.save_model(model,'my_model.hdf5')"
   ]
  },
  {
   "attachments": {},
   "cell_type": "markdown",
   "metadata": {},
   "source": [
    "# TESTING"
   ]
  },
  {
   "cell_type": "code",
   "execution_count": 41,
   "metadata": {},
   "outputs": [],
   "source": [
    "# IMPORTING MODEL\n",
    "modelPath = './my_model.hdf5'\n",
    "model=tf.keras.models.load_model(modelPath)"
   ]
  },
  {
   "cell_type": "code",
   "execution_count": 49,
   "metadata": {},
   "outputs": [
    {
     "name": "stdout",
     "output_type": "stream",
     "text": [
      "102/102 [==============================] - 0s 3ms/step - loss: 34.4022 - mae: 3.8449\n"
     ]
    },
    {
     "data": {
      "text/plain": [
       "[34.40224075317383, 3.844914674758911]"
      ]
     },
     "execution_count": 49,
     "metadata": {},
     "output_type": "execute_result"
    }
   ],
   "source": [
    "model.evaluate(test_X, test_Y, batch_size=1)"
   ]
  }
 ],
 "metadata": {
  "kernelspec": {
   "display_name": "Python 3",
   "language": "python",
   "name": "python3"
  },
  "language_info": {
   "codemirror_mode": {
    "name": "ipython",
    "version": 3
   },
   "file_extension": ".py",
   "mimetype": "text/x-python",
   "name": "python",
   "nbconvert_exporter": "python",
   "pygments_lexer": "ipython3",
   "version": "3.8.10"
  },
  "orig_nbformat": 4,
  "vscode": {
   "interpreter": {
    "hash": "31f2aee4e71d21fbe5cf8b01ff0e069b9275f58929596ceb00d14d90e3e16cd6"
   }
  }
 },
 "nbformat": 4,
 "nbformat_minor": 2
}
